{
  "nbformat": 4,
  "nbformat_minor": 0,
  "metadata": {
    "colab": {
      "provenance": [],
      "authorship_tag": "ABX9TyOUJxPvlJrF4SSGPr3ft+q2",
      "include_colab_link": true
    },
    "kernelspec": {
      "name": "python3",
      "display_name": "Python 3"
    },
    "language_info": {
      "name": "python"
    }
  },
  "cells": [
    {
      "cell_type": "markdown",
      "metadata": {
        "id": "view-in-github",
        "colab_type": "text"
      },
      "source": [
        "<a href=\"https://colab.research.google.com/github/NimsW20/TensorFlow-Tutorial/blob/main/Rock_Paper_Scissors.ipynb\" target=\"_parent\"><img src=\"https://colab.research.google.com/assets/colab-badge.svg\" alt=\"Open In Colab\"/></a>"
      ]
    },
    {
      "cell_type": "code",
      "execution_count": 1,
      "metadata": {
        "id": "dZyPAOubsFb0"
      },
      "outputs": [],
      "source": [
        "import random\n",
        "from collections import Counter"
      ]
    },
    {
      "cell_type": "code",
      "source": [
        "def play(player1, player2, num_games, verbose=False):\n",
        "    p1_prev_play = \"\"\n",
        "    p2_prev_play = \"\"\n",
        "    results = {\"p1\": 0, \"p2\": 0, \"tie\": 0}\n",
        "\n",
        "    for _ in range(num_games):\n",
        "        p1_play = player1(p2_prev_play)\n",
        "        p2_play = player2(p1_prev_play)\n",
        "\n",
        "        if p1_play == p2_play:\n",
        "            results[\"tie\"] += 1\n",
        "            winner = \"Tie.\"\n",
        "        elif (\n",
        "            (p1_play == \"P\" and p2_play == \"R\")\n",
        "            or (p1_play == \"R\" and p2_play == \"S\")\n",
        "            or (p1_play == \"S\" and p2_play == \"P\")\n",
        "        ):\n",
        "            results[\"p1\"] += 1\n",
        "            winner = \"Player 1 wins.\"\n",
        "        elif (\n",
        "            p2_play == \"P\"\n",
        "            and p1_play == \"R\"\n",
        "            or p2_play == \"R\"\n",
        "            and p1_play == \"S\"\n",
        "            or p2_play == \"S\"\n",
        "            and p1_play == \"P\"\n",
        "        ):\n",
        "            results[\"p2\"] += 1\n",
        "            winner = \"Player 2 wins.\"\n",
        "\n",
        "        if verbose:\n",
        "            print(\"Player 1:\", p1_play, \"| Player 2:\", p2_play)\n",
        "            print(winner)\n",
        "            print()\n",
        "\n",
        "        p1_prev_play = p1_play\n",
        "        p2_prev_play = p2_play\n",
        "\n",
        "    games_won = results[\"p2\"] + results[\"p1\"]\n",
        "\n",
        "    if games_won == 0:\n",
        "        win_rate = 0\n",
        "    else:\n",
        "        win_rate = results[\"p1\"] / games_won * 100\n",
        "\n",
        "    print(\"Final results:\", results)\n",
        "    print(f\"Player 1 win rate: {win_rate}%\")\n",
        "\n",
        "    return win_rate"
      ],
      "metadata": {
        "id": "9T9AthaIsitX"
      },
      "execution_count": 2,
      "outputs": []
    },
    {
      "cell_type": "code",
      "source": [
        "def quincy(prev_play, counter=[0]):\n",
        "    counter[0] += 1\n",
        "    choices = [\"R\", \"R\", \"P\", \"P\", \"S\"]\n",
        "    return choices[counter[0] % len(choices)]"
      ],
      "metadata": {
        "id": "ONY8aCausj9q"
      },
      "execution_count": 3,
      "outputs": []
    },
    {
      "cell_type": "code",
      "source": [
        "def mrugesh(prev_opponent_play, opponent_history=[]):\n",
        "    opponent_history.append(prev_opponent_play)\n",
        "    last_ten = opponent_history[-10:]\n",
        "    most_frequent = max(set(last_ten), key=last_ten.count)\n",
        "\n",
        "    if most_frequent == \"\":\n",
        "        most_frequent = \"S\"\n",
        "\n",
        "    ideal_response = {\"P\": \"S\", \"R\": \"P\", \"S\": \"R\"}\n",
        "    return ideal_response[most_frequent]"
      ],
      "metadata": {
        "id": "24G0FDZTsmEQ"
      },
      "execution_count": 4,
      "outputs": []
    },
    {
      "cell_type": "code",
      "source": [
        "def kris(prev_opponent_play):\n",
        "    if prev_opponent_play == \"\":\n",
        "        prev_opponent_play = \"R\"\n",
        "    ideal_response = {\"P\": \"S\", \"R\": \"P\", \"S\": \"R\"}\n",
        "    return ideal_response[prev_opponent_play]"
      ],
      "metadata": {
        "id": "17sUflGLsoVK"
      },
      "execution_count": 5,
      "outputs": []
    },
    {
      "cell_type": "code",
      "source": [
        "def abbey(\n",
        "    prev_opponent_play,\n",
        "    opponent_history=[],\n",
        "    play_order=[\n",
        "        {\n",
        "            \"RR\": 0,\n",
        "            \"RP\": 0,\n",
        "            \"RS\": 0,\n",
        "            \"PR\": 0,\n",
        "            \"PP\": 0,\n",
        "            \"PS\": 0,\n",
        "            \"SR\": 0,\n",
        "            \"SP\": 0,\n",
        "            \"SS\": 0,\n",
        "        }\n",
        "    ],\n",
        "):\n",
        "    if not prev_opponent_play:\n",
        "        prev_opponent_play = \"R\"\n",
        "    opponent_history.append(prev_opponent_play)\n",
        "\n",
        "    last_two = \"\".join(opponent_history[-2:])\n",
        "    if len(last_two) == 2:\n",
        "        play_order[0][last_two] += 1\n",
        "\n",
        "    potential_plays = [\n",
        "        prev_opponent_play + \"R\",\n",
        "        prev_opponent_play + \"P\",\n",
        "        prev_opponent_play + \"S\",\n",
        "    ]\n",
        "\n",
        "    sub_order = {\n",
        "        k: play_order[0][k] for k in potential_plays if k in play_order[0]\n",
        "    }\n",
        "    prediction = max(sub_order, key=sub_order.get)[-1:]\n",
        "\n",
        "    ideal_response = {\"P\": \"S\", \"R\": \"P\", \"S\": \"R\"}\n",
        "    return ideal_response[prediction]"
      ],
      "metadata": {
        "id": "hrTm5gJmsqQH"
      },
      "execution_count": 6,
      "outputs": []
    },
    {
      "cell_type": "code",
      "source": [
        "def human(prev_opponent_play):\n",
        "    play = \"\"\n",
        "    while play not in [\"R\", \"P\", \"S\"]:\n",
        "        play = input(\"[R]ock, [P]aper, [S]cissors? \")\n",
        "        print(play)\n",
        "    return play"
      ],
      "metadata": {
        "id": "o01Tdq7OstCb"
      },
      "execution_count": 7,
      "outputs": []
    },
    {
      "cell_type": "code",
      "source": [
        "def random_player(prev_opponent_play):\n",
        "    return random.choice([\"R\", \"P\", \"S\"])"
      ],
      "metadata": {
        "id": "pzrtU1LysvDN"
      },
      "execution_count": 8,
      "outputs": []
    },
    {
      "cell_type": "markdown",
      "source": [
        "Solution"
      ],
      "metadata": {
        "id": "hW7vL0gtsy8Q"
      }
    },
    {
      "cell_type": "code",
      "source": [
        "counter_move = {\"R\": \"P\", \"P\": \"S\", \"S\": \"R\"}"
      ],
      "metadata": {
        "id": "5lDqSoijsxM5"
      },
      "execution_count": 9,
      "outputs": []
    },
    {
      "cell_type": "code",
      "source": [
        "steps = {}\n",
        "\n",
        "\n",
        "# the strategy is similar to abbey, but we look backs harder than her.\n",
        "# she only look back 2 steps, find most frequently pattern of all 2 moves,\n",
        "#\n",
        "# Other strategies:\n",
        "#\n",
        "# - quincy repeat 5 moves\n",
        "# - kris always counter our last moves, hence, once we establed a patterns, he\n",
        "# is not a problem\n",
        "# - mrugresh look for our top pick in last 10 moves, hence, similar to kris,\n",
        "# once we establed a pattern, we're in control.\n",
        "def player(prev_play, opponent_history=[]):\n",
        "    if prev_play != \"\":\n",
        "        opponent_history.append(prev_play)\n",
        "\n",
        "    # Interestingly, 3 to 6 works best, as in we win more than 60%.\n",
        "    # If n is larger than 6, we start to get terrible result.\n",
        "    # I guess it's becauase we don't have enough data to predict once n get that\n",
        "    # larger, we only play 1000 games.\n",
        "    n = 5\n",
        "\n",
        "    hist = opponent_history\n",
        "\n",
        "    guess = \"R\"\n",
        "    if len(hist) > n:\n",
        "        pattern = join(hist[-n:])\n",
        "\n",
        "        if join(hist[-(n + 1):]) in steps.keys():\n",
        "            steps[join(hist[-(n + 1):])] += 1\n",
        "        else:\n",
        "            steps[join(hist[-(n + 1):])] = 1\n",
        "\n",
        "        possible = [pattern + \"R\", pattern + \"P\", pattern + \"S\"]\n",
        "\n",
        "        for i in possible:\n",
        "            if not i in steps.keys():\n",
        "                steps[i] = 0\n",
        "\n",
        "        predict = max(possible, key=lambda key: steps[key])\n",
        "\n",
        "        if predict[-1] == \"P\":\n",
        "            guess = \"S\"\n",
        "        if predict[-1] == \"R\":\n",
        "            guess = \"P\"\n",
        "        if predict[-1] == \"S\":\n",
        "            guess = \"R\"\n",
        "\n",
        "    return guess\n",
        "\n",
        "\n",
        "def join(moves):\n",
        "    return \"\".join(moves)\n",
        "\n",
        "\n",
        "play(player, quincy, 1000)\n",
        "play(player, mrugesh, 1000)\n",
        "play(player, abbey, 1000)\n",
        "play(player, kris, 1000)"
      ],
      "metadata": {
        "colab": {
          "base_uri": "https://localhost:8080/"
        },
        "id": "sUQtGSR5s16b",
        "outputId": "34ebbb06-6d45-4f6a-b6cb-395e54cded56"
      },
      "execution_count": 10,
      "outputs": [
        {
          "output_type": "stream",
          "name": "stdout",
          "text": [
            "Final results: {'p1': 992, 'p2': 3, 'tie': 5}\n",
            "Player 1 win rate: 99.69849246231156%\n",
            "Final results: {'p1': 835, 'p2': 158, 'tie': 7}\n",
            "Player 1 win rate: 84.08862034239678%\n",
            "Final results: {'p1': 448, 'p2': 314, 'tie': 238}\n",
            "Player 1 win rate: 58.79265091863517%\n",
            "Final results: {'p1': 851, 'p2': 66, 'tie': 83}\n",
            "Player 1 win rate: 92.80261723009815%\n"
          ]
        },
        {
          "output_type": "execute_result",
          "data": {
            "text/plain": [
              "92.80261723009815"
            ]
          },
          "metadata": {},
          "execution_count": 10
        }
      ]
    },
    {
      "cell_type": "markdown",
      "source": [
        "Testing"
      ],
      "metadata": {
        "id": "bwtvLCU9s95S"
      }
    },
    {
      "cell_type": "code",
      "source": [
        "import unittest\n",
        "\n",
        "class UnitTests(unittest.TestCase):\n",
        "    print()\n",
        "\n",
        "    def test_player_vs_quincy(self):\n",
        "        print(\"Testing game against quincy...\")\n",
        "        actual = play(player, quincy, 1000) >= 60\n",
        "        self.assertTrue(\n",
        "            actual,\n",
        "            'Expected player to defeat quincy at least 60% of the time.')\n",
        "\n",
        "    def test_player_vs_abbey(self):\n",
        "        print(\"Testing game against abbey...\")\n",
        "        actual = play(player, abbey, 1000) >= 60\n",
        "        self.assertTrue(\n",
        "            actual,\n",
        "            'Expected player to defeat abbey at least 60% of the time.')\n",
        "\n",
        "    def test_player_vs_kris(self):\n",
        "        print(\"Testing game against kris...\")\n",
        "        actual = play(player, kris, 1000) >= 60\n",
        "        self.assertTrue(\n",
        "            actual, 'Expected player to defeat kris at least 60% of the time.')\n",
        "\n",
        "    def test_player_vs_mrugesh(self):\n",
        "        print(\"Testing game against mrugesh...\")\n",
        "        actual = play(player, mrugesh, 1000) >= 60\n",
        "        self.assertTrue(\n",
        "            actual,\n",
        "            'Expected player to defeat mrugesh at least 60% of the time.')\n",
        "\n",
        "\n",
        "if __name__ == \"__main__\":\n",
        "    unittest.main(argv=[\"first-arg-is-ignored\"], exit=False)"
      ],
      "metadata": {
        "colab": {
          "base_uri": "https://localhost:8080/"
        },
        "id": "9ueNjLcFs43F",
        "outputId": "da5ecbf6-b921-4ad0-d7e9-13a2d9c73467"
      },
      "execution_count": 11,
      "outputs": [
        {
          "output_type": "stream",
          "name": "stderr",
          "text": [
            "....\n",
            "----------------------------------------------------------------------\n",
            "Ran 4 tests in 0.036s\n",
            "\n",
            "OK\n"
          ]
        },
        {
          "output_type": "stream",
          "name": "stdout",
          "text": [
            "\n",
            "Testing game against abbey...\n",
            "Final results: {'p1': 445, 'p2': 285, 'tie': 270}\n",
            "Player 1 win rate: 60.95890410958904%\n",
            "Testing game against kris...\n",
            "Final results: {'p1': 943, 'p2': 18, 'tie': 39}\n",
            "Player 1 win rate: 98.12695109261186%\n",
            "Testing game against mrugesh...\n",
            "Final results: {'p1': 847, 'p2': 151, 'tie': 2}\n",
            "Player 1 win rate: 84.86973947895791%\n",
            "Testing game against quincy...\n",
            "Final results: {'p1': 996, 'p2': 3, 'tie': 1}\n",
            "Player 1 win rate: 99.69969969969969%\n"
          ]
        }
      ]
    }
  ]
}